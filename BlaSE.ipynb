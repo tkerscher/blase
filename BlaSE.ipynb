{
 "cells": [
  {
   "cell_type": "markdown",
   "source": [
    "# Blazar Synchrotron Peak Estimator (BlaSE)\r\n",
    "\r\n",
    "BlaSE is an ensemble of neural networks to estimate the synchrotron with prediction interval based of an blazar given its spectral energy distribution as output by the VOUBlazar tool. The goal of this notebook is to train the networks. This notebook wont feature any hyperparameter tuning since that already happened as part of my bachelor thesis.\r\n",
    "\r\n",
    "As a special quirk the tool uses double ensemble: Bagging is applied to create different subset to train. For each subset an ensemble is trained to improve the prediction as stated by Blundell et. al. 2017.\r\n",
    "\r\n",
    "In the end the bagging allows to reapply the model on the out of bag data to hopefully increase the quality of the dataset. The final tool is expected to be applied on unseen data and thus uses all available ensembles."
   ],
   "metadata": {}
  },
  {
   "cell_type": "markdown",
   "source": [
    "## Data Preparation"
   ],
   "metadata": {}
  },
  {
   "cell_type": "markdown",
   "source": [
    "We start by parsing the data set. It is simply a zip containing seds as produced by the VOUBlazar tool and looks like the following:\r\n",
    "\r\n",
    "```\r\n",
    "   1  matched source  227.16230  -49.88400  99\r\n",
    " Frequency     nufnu     nufnu unc.  nufnu unc. start time   end time   Catalog     Reference\r\n",
    "    Hz       erg/cm2/s     upper       lower        MJD         MJD   \r\n",
    "---------------------------------------------------------------------------------------------------------------------------\r\n",
    " 2.418E+17   2.185E-13   3.139E-13   1.230E-13  55000.0000  55000.0000  RASS        Boller et al. 2016, A&A, 103, 1                                                                                                                                                                         \r\n",
    " 2.418E+17   5.085E-13   6.281E-13   3.889E-13  58150.0000  58150.1016  OUSXB       Giommi et al. 2019, Accepted for publication in A&A  \r\n",
    "```\r\n",
    "\r\n",
    "Thus, we have 4 lines of header until the actual data begins. After that we are only interested in the first 4 entries per row.\r\n",
    "The error is given for each direction separately, but would like a symmetric one better. We use the mean squarred error instead.\r\n",
    "\r\n",
    "Next, we need the target value, the nupeak. It's stored in the filename (as it was determined by hand). Consider an example file:\r\n",
    "```\r\n",
    "SED_11.78_227.1623_-49.8840_PMNJ1508-49_1.551\r\n",
    "```\r\n",
    "The peak is stored in the first float.\r\n",
    "\r\n",
    "Next, we have to sanitize the data. We encoutered following problems:\r\n",
    " - Zero Frequency\r\n",
    " - negative or zero flux\r\n",
    " - flux outside upper/lower bound\r\n",
    "\r\n",
    "Finally the data is binned. This is necessary since the neural network is a simple fcn and thus expects a constant sized input. There are gaps to leave out biased data. some bins are only present for specific target values. The neural network would only look if the bin is present and thus fail to generalize making them useless for unseen data. The actual bin edges were determined beforehand such that they are approximately equally densly filled."
   ],
   "metadata": {}
  },
  {
   "cell_type": "code",
   "execution_count": null,
   "source": [
    "import numpy as np\r\n",
    "from os.path import basename, splitext\r\n",
    "from zipfile import ZipFile\r\n",
    "\r\n",
    "data = []\r\n",
    "label = []\r\n",
    "pos = []\r\n",
    "seds = ZipFile('SEDs.zip')\r\n",
    "bin_edges = np.loadtxt('blase/bins.txt')\r\n",
    "n_bins = bin_edges.shape[0]\r\n",
    "\r\n",
    "#data loading\r\n",
    "def getpeak(filename):\r\n",
    "    filename = basename(filename)\r\n",
    "    return float(filename.split(\"_\")[1])\r\n",
    "def getpos(filename):\r\n",
    "    name = splitext(basename(filename))[0]\r\n",
    "    parts = name.split('_')\r\n",
    "    return float(parts[2]) ,float(parts[3])\r\n",
    "def sanitize(_data):\r\n",
    "    _data = np.delete(_data, _data[:,0] <= 0, axis=0)\r\n",
    "    _data = np.delete(_data, _data[:,1] <= 0, axis=0)\r\n",
    "    return _data\r\n",
    "def bin_data(_data):\r\n",
    "    result = []\r\n",
    "    for sed in _data:\r\n",
    "        line = []\r\n",
    "        for bin in bin_edges:\r\n",
    "            inside = (sed[:,0] >= bin[0]) & (sed[:,0] <= bin[1])\r\n",
    "            flux = sed[inside][:,1]\r\n",
    "            line.append(np.mean(flux) if len(flux) > 0 else 0.0)\r\n",
    "        result.append(line)\r\n",
    "    return np.array(result)\r\n",
    "def loadfile(file):\r\n",
    "    _data = []\r\n",
    "    for line in file.readlines()[4:]:\r\n",
    "        entries = line.split()\r\n",
    "        x = float(entries[0])\r\n",
    "        y = float(entries[1])\r\n",
    "        up = float(entries[2])\r\n",
    "        lo = float(entries[3])\r\n",
    "        #sanity check errors\r\n",
    "        if (up < y or y < lo) and up != 0.0 and lo != 0.0:\r\n",
    "            continue #Skip this entry\r\n",
    "        _data.append([x, y])\r\n",
    "    _data = np.array(_data)\r\n",
    "    _data = sanitize(_data)\r\n",
    "    #we want log10\r\n",
    "    _data = np.log10(_data)\r\n",
    "    assert(np.isfinite(_data).all())\r\n",
    "    return _data\r\n",
    "\r\n",
    "for filename in seds.namelist():\r\n",
    "    #Check if filename is a folder\r\n",
    "    if filename[-1] == '/':\r\n",
    "        continue\r\n",
    "    label.append(getpeak(filename))\r\n",
    "    pos.append(getpos(filename))\r\n",
    "    with seds.open(filename) as file:\r\n",
    "        data.append(loadfile(file))\r\n",
    "data = bin_data(data)\r\n",
    "label = np.array(label)\r\n",
    "pos = np.array(pos)\r\n",
    "\r\n",
    "print(f\"{len(data)} data entries loaded\")\r\n",
    "print(f\"{len(label)} labels loaded\")"
   ],
   "outputs": [],
   "metadata": {}
  },
  {
   "cell_type": "markdown",
   "source": [
    "Next step is to create the bagging. There about 3,800 samples in the data set, thus each bag gets about 760 samples."
   ],
   "metadata": {}
  },
  {
   "cell_type": "code",
   "execution_count": null,
   "source": [
    "# We need to remember which sed is in which bag, thus we wont use standard methods but pick the bag ourselfes\r\n",
    "bag_idx = np.random.randint(5, size=len(label))\r\n",
    "bagged_data = [data[bag_idx == i] for i in range(5)]\r\n",
    "bagged_label = [label[bag_idx == i] for i in range(5)]\r\n",
    "for i in range(5):\r\n",
    "    print(f'Size of bag {i}: {len(bagged_label[i])}')"
   ],
   "outputs": [],
   "metadata": {}
  },
  {
   "cell_type": "markdown",
   "source": [
    "Save position with bag index. We need it later for autimatic checking wether a sed was used for training."
   ],
   "metadata": {}
  },
  {
   "cell_type": "code",
   "execution_count": null,
   "source": [
    "np.save('blase/bag_index.npy', np.hstack((pos, bag_idx.reshape(-1,1))))"
   ],
   "outputs": [],
   "metadata": {}
  },
  {
   "cell_type": "markdown",
   "source": [
    "Another problem of the data set is that not all synchrotron peaks and bins are equally represented. We solve this problem with data augmentation and thus evem create a bigger train set. The augmentation works by oversampling especially the seds with an uncommen peak while undersampling, i.e. deleting bins that are overrepresented."
   ],
   "metadata": {}
  },
  {
   "cell_type": "code",
   "execution_count": null,
   "source": [
    "label_edges = np.loadtxt('label_edges.txt')\r\n",
    "_n_labels = len(label_edges) - 1\r\n",
    "target_bin_size = 90 #~10k training set size\r\n",
    "max_deletions = 15\r\n",
    "power_adjust = 4.0 #further boosts deletion probability of dense bins\r\n",
    "\r\n",
    "def augment(data, label):\r\n",
    "    #See which bins are actually filled\r\n",
    "    filled = np.where(data < 0.0)\r\n",
    "    hist, *_ = np.histogram2d(label[filled[0]], filled[1], bins=(label_edges, n_bins))\r\n",
    "\r\n",
    "    #calculate probality of bin to be deleted\r\n",
    "    p = (hist.T**power_adjust/np.sum(hist**power_adjust, axis=1)).T\r\n",
    "    a = np.array(list(range(n_bins)))\r\n",
    "    binned_label = np.digitize(label, label_edges, right=True) - 1#since bin zero gets 1\r\n",
    "\r\n",
    "    target_n = target_bin_size * _n_labels\r\n",
    "    result_data = np.zeros((target_n, n_bins))\r\n",
    "    result_label = np.zeros((target_n,))\r\n",
    "    #copy originals at back of output\r\n",
    "    result_data[-len(label):,:] = data\r\n",
    "    result_label[-len(label):] = label\r\n",
    "\r\n",
    "    for i in range(_n_labels): #binned labels\r\n",
    "        inside = np.where(binned_label == i)[0]\r\n",
    "        n = target_bin_size - len(inside) #nr to be copied\r\n",
    "        assert(n > 0)\r\n",
    "\r\n",
    "        #copy originals\r\n",
    "        _ii = target_bin_size*i\r\n",
    "        result_data[_ii:_ii+len(inside),:] = data[inside]\r\n",
    "        result_label[_ii:_ii+len(inside)] = label[inside]\r\n",
    "\r\n",
    "        #make copies\r\n",
    "        copy_sources = np.random.choice(inside, n) #which to copy (mutiple times)\r\n",
    "        _ii += len(inside)\r\n",
    "        result_data[_ii:_ii+n,:] = data[copy_sources]\r\n",
    "        result_label[_ii:_ii+n] = label[copy_sources]\r\n",
    "\r\n",
    "        #which bins to delete\r\n",
    "        for ii in range(_ii, _ii+n):\r\n",
    "            _del = np.random.choice(a, (max_deletions,), True, p[i])\r\n",
    "            result_data[ii, _del] = 0.0\r\n",
    "\r\n",
    "    #remove all copies with less than 5 bins populated\r\n",
    "    fainted = np.where((result_data != 0.0).sum(axis=1) < 5)\r\n",
    "    result_data = np.delete(result_data, fainted, axis=0)\r\n",
    "    result_label = np.delete(result_label, fainted, axis=0)\r\n",
    "    \r\n",
    "    return result_data, result_label"
   ],
   "outputs": [],
   "metadata": {}
  },
  {
   "cell_type": "code",
   "execution_count": null,
   "source": [
    "augmented = [augment(*b) for b in zip(bagged_data, bagged_label)]"
   ],
   "outputs": [],
   "metadata": {}
  },
  {
   "cell_type": "markdown",
   "source": [
    "## Data Loading"
   ],
   "metadata": {}
  },
  {
   "cell_type": "markdown",
   "source": [
    "Next step is to make the data available for training."
   ],
   "metadata": {}
  },
  {
   "cell_type": "code",
   "execution_count": null,
   "source": [
    "import torch\r\n",
    "import torch.optim\r\n",
    "import torch.nn as nn\r\n",
    "import torch.nn.functional as F\r\n",
    "from torch.utils.data import DataLoader, TensorDataset\r\n",
    "print(torch.__version__)\r\n",
    "\r\n",
    "import pytorch_lightning as pl\r\n",
    "from pytorch_lightning.callbacks.model_checkpoint import ModelCheckpoint\r\n",
    "\r\n",
    "from sklearn.model_selection import train_test_split"
   ],
   "outputs": [],
   "metadata": {}
  },
  {
   "cell_type": "markdown",
   "source": [
    "To improve the performance, we're gonna standardize the input per bin and the label. We use the whole augmented data set for that.\r\n",
    "\r\n",
    "Because of the standardization 0.0 becomes a valid flux and is thus ambigious for empty bins. Wether a bin is empty is therefore append after bins as a mask were zero denotes an empty and one a filled bin."
   ],
   "metadata": {}
  },
  {
   "cell_type": "code",
   "execution_count": null,
   "source": [
    "_data = np.concatenate([augmented[i][0] for i in range(5)])\r\n",
    "_label = np.concatenate([augmented[i][1] for i in range(5)])\r\n",
    "print(_data.shape)\r\n",
    "\r\n",
    "bin_mean = np.mean(_data, axis=0, where=(_data != 0.0))\r\n",
    "bin_scale = np.std(_data, axis=0, where=(_data != 0.0))\r\n",
    "\r\n",
    "label_mean = np.mean(_label, axis=0)\r\n",
    "label_scale = np.std(_label, axis=0)"
   ],
   "outputs": [],
   "metadata": {}
  },
  {
   "cell_type": "code",
   "execution_count": null,
   "source": [
    "np.savez('blase/scaling.npz',\r\n",
    "    bin_mean=bin_mean,\r\n",
    "    bin_scale=bin_scale,\r\n",
    "    label_mean=label_mean,\r\n",
    "    label_scale=label_scale\r\n",
    ")"
   ],
   "outputs": [],
   "metadata": {}
  },
  {
   "cell_type": "code",
   "execution_count": null,
   "source": [
    "class DataModule(pl.LightningDataModule):\r\n",
    "    def __init__(self, bag):\r\n",
    "        super().__init__()\r\n",
    "\r\n",
    "        _data = np.concatenate([augmented[i][0] for i in range(5) if i != bag])\r\n",
    "        _mask = (_data != 0.0).astype(float)\r\n",
    "        _label = np.concatenate([augmented[i][1] for i in range(5) if i != bag])\r\n",
    "\r\n",
    "        train_data, val_data, train_mask, val_mask, train_label, val_label = \\\r\n",
    "            train_test_split(_data, _mask, _label, test_size=1500)\r\n",
    "\r\n",
    "        self.train_data = (train_data - bin_mean) / bin_scale * train_mask\r\n",
    "        self.val_data = (val_data - bin_mean) / bin_scale * val_mask\r\n",
    "\r\n",
    "        self.train_mask = train_mask\r\n",
    "        self.val_mask = val_mask\r\n",
    "\r\n",
    "        self.train_label = (train_label - label_mean) / label_scale\r\n",
    "        self.val_label = (val_label - label_mean) / label_scale\r\n",
    "    \r\n",
    "    def setup(self, stage=None):\r\n",
    "        self.trainSet = TensorDataset(\r\n",
    "            torch.tensor(np.concatenate((self.train_data, self.train_mask), axis=1), dtype=torch.float),\r\n",
    "            torch.tensor(self.train_label, dtype=torch.float))\r\n",
    "        self.valSet = TensorDataset(\r\n",
    "            torch.tensor(np.concatenate((self.val_data, self.val_mask), axis=1), dtype=float),\r\n",
    "            torch.tensor(self.val_label, dtype=float))\r\n",
    "    \r\n",
    "    def train_dataloader(self):\r\n",
    "        return DataLoader(self.trainSet, batch_size=64, shuffle=True)\r\n",
    "\r\n",
    "    def val_dataloader(self):\r\n",
    "        return DataLoader(self.valSet, batch_size=64, shuffle=False)"
   ],
   "outputs": [],
   "metadata": {}
  },
  {
   "cell_type": "markdown",
   "source": [
    "## Model"
   ],
   "metadata": {}
  },
  {
   "cell_type": "markdown",
   "source": [
    "Next up is the model. Once again, the architecture has already been tuned."
   ],
   "metadata": {}
  },
  {
   "cell_type": "code",
   "execution_count": null,
   "source": [
    "class Model(pl.LightningModule):\r\n",
    "    def __init__(self):\r\n",
    "        super().__init__()\r\n",
    "        self.lr = 0.0018397297637578883\r\n",
    "        self.weight_decay = 1.634587061861498e-05\r\n",
    "        self.model = nn.Sequential(\r\n",
    "            nn.Linear(52, 152),\r\n",
    "            nn.BatchNorm1d(152),\r\n",
    "            nn.Dropout(0.11623816061109485),\r\n",
    "            nn.ReLU(),\r\n",
    "            nn.Linear(152, 80),\r\n",
    "            nn.BatchNorm1d(80),\r\n",
    "            nn.Dropout(0.14953177977171542),\r\n",
    "            nn.ReLU(),\r\n",
    "            nn.Linear(80, 72),\r\n",
    "            nn.BatchNorm1d(72),\r\n",
    "            nn.Dropout(0.024569432237666035),\r\n",
    "            nn.ReLU(),\r\n",
    "            nn.Linear(72, 48),\r\n",
    "            nn.BatchNorm1d(48),\r\n",
    "            nn.Dropout(0.03208157605345701),\r\n",
    "            nn.ReLU(),\r\n",
    "            nn.Linear(48, 2)\r\n",
    "        )\r\n",
    "\r\n",
    "    def forward(self, X):\r\n",
    "        out = self.model(X.float())\r\n",
    "        #the second output is the variance\r\n",
    "        #use softplus to force the variance in [0,inf]\r\n",
    "        mean, var = torch.unbind(out, dim=1)#first axis is batch\r\n",
    "        var = F.softplus(var) #enforce > 0\r\n",
    "        return mean, var \r\n",
    "\r\n",
    "    def configure_optimizers(self):\r\n",
    "        optim = torch.optim.Adam(self.parameters(), lr=self.lr, weight_decay=self.weight_decay)\r\n",
    "        scheduler = torch.optim.lr_scheduler.ReduceLROnPlateau(optim, patience=10)\r\n",
    "        return {\r\n",
    "            'optimizer' : optim,\r\n",
    "            'scheduler' : scheduler\r\n",
    "        }\r\n",
    "\r\n",
    "    def training_step(self, batch, batch_idx):\r\n",
    "        X, y = batch\r\n",
    "        y = y.squeeze()\r\n",
    "        mean, var = self(X)\r\n",
    "        #-2ln[p(y,x)]\r\n",
    "        losses = torch.log(var) + (y - mean)**2/var\r\n",
    "        loss = torch.mean(torch.unsqueeze(losses, 0)) #to keep losses comparable regardless of batch size\r\n",
    "        self.log('loss', loss)\r\n",
    "        return loss\r\n",
    "  \r\n",
    "    def validation_step(self, batch, batch_idx):\r\n",
    "        X, y = batch\r\n",
    "        y = y.squeeze()\r\n",
    "        mean, var = self(X)\r\n",
    "        losses = torch.log(var) + (y - mean)**2/var\r\n",
    "        #for whatever reason, mean needs an extra dimension...\r\n",
    "        loss = torch.mean(torch.unsqueeze(losses, 0))\r\n",
    "        self.log('val_loss', loss)\r\n",
    "        return {'val_loss': loss}\r\n",
    "\r\n",
    "    def validation_epoch_end(self, outputs):\r\n",
    "        avg_loss = torch.stack([x['val_loss'] for x in outputs]).mean()\r\n",
    "        self.log('avg_loss', avg_loss)"
   ],
   "outputs": [],
   "metadata": {}
  },
  {
   "cell_type": "markdown",
   "source": [
    "## Training"
   ],
   "metadata": {}
  },
  {
   "cell_type": "markdown",
   "source": [
    "Now the model can be trained. We'll train 5 models for each bag. This way we will have later an ensemble of 20 models for each out of bag estimation and even 25 for unseen data."
   ],
   "metadata": {}
  },
  {
   "cell_type": "code",
   "execution_count": null,
   "source": [
    "ensemble_size = 5\r\n",
    "\r\n",
    "for bag in range(5):\r\n",
    "    dataset = DataModule(bag)\r\n",
    "\r\n",
    "    for i in range(ensemble_size):\r\n",
    "        model = Model()\r\n",
    "        trainer = pl.Trainer(\r\n",
    "            max_epochs=200,\r\n",
    "            logger = pl.loggers.TensorBoardLogger('logs/', name=f'bag{bag}', version=i),\r\n",
    "            progress_bar_refresh_rate=0,#disable progress bar\r\n",
    "            callbacks=[ModelCheckpoint(\r\n",
    "                dirpath='models/',\r\n",
    "                filename=f'{bag}.{i}_{{epoch}}_{{val_loss:.6f}}',\r\n",
    "                save_top_k=3,\r\n",
    "                monitor='val_loss',\r\n",
    "                mode='min',\r\n",
    "                every_n_val_epochs=1)])\r\n",
    "        trainer.fit(model, dataset)"
   ],
   "outputs": [],
   "metadata": {}
  },
  {
   "cell_type": "markdown",
   "source": [
    "Since we saved checkpoints, we now have to extract the models weights to reduce disk footprint."
   ],
   "metadata": {}
  },
  {
   "cell_type": "code",
   "execution_count": null,
   "source": [
    "from os import listdir\r\n",
    "from os.path import abspath, join\r\n",
    "\r\n",
    "models = []\r\n",
    "dic = {}\r\n",
    "\r\n",
    "for f in listdir('models/'):\r\n",
    "    m = Model.load_from_checkpoint(abspath(join('models/', f)))\r\n",
    "    models.append(m)\r\n",
    "    dic[f'{f[0:3]}'] = m.state_dict() #bag.id\r\n",
    "torch.save(dic, 'blase/models.pth') #save all models in one file"
   ],
   "outputs": [],
   "metadata": {}
  },
  {
   "cell_type": "markdown",
   "source": [
    "## Evaluation"
   ],
   "metadata": {}
  },
  {
   "cell_type": "markdown",
   "source": [
    "Now that our model is done, let's evaluate it."
   ],
   "metadata": {}
  },
  {
   "cell_type": "code",
   "execution_count": null,
   "source": [
    "#Load blase\r\n",
    "from blase import Estimator\r\n",
    "\r\n",
    "estimator = Estimator()\r\n",
    "\r\n",
    "truth = label\r\n",
    "estimate = np.zeros_like(label)\r\n",
    "error = np.zeros_like(label)\r\n",
    "#estimate out of bag\r\n",
    "for i in range(5):\r\n",
    "    bag_mask = bag_idx == i\r\n",
    "    _estimate, _err = estimator(data[bag_mask], i)\r\n",
    "    estimate[bag_mask] = _estimate\r\n",
    "    error[bag_mask] = _err"
   ],
   "outputs": [],
   "metadata": {}
  },
  {
   "cell_type": "code",
   "execution_count": null,
   "source": [
    "#calculate some metric\r\n",
    "print(f'Median Absolute Error: {np.median(np.abs(truth-estimate)):.3f}')\r\n",
    "print(f'         25% quantile: {np.quantile(np.abs(truth-estimate),0.25):.3f}')\r\n",
    "print(f'         75% quantile: {np.quantile(np.abs(truth-estimate),0.75):.3f}')\r\n",
    "print('')\r\n",
    "print(f'Median PI Width: {np.median(2*error):.3f}')\r\n",
    "print(f'   25% quantile: {np.quantile(2*error, 0.25):.3f}')\r\n",
    "print(f'   75% quantile: {np.quantile(2*error, 0.75):.3f}')"
   ],
   "outputs": [],
   "metadata": {}
  },
  {
   "cell_type": "code",
   "execution_count": null,
   "source": [
    "import matplotlib.pyplot as plt\r\n",
    "import seaborn as sns\r\n",
    "from scipy.stats import binned_statistic\r\n",
    "\r\n",
    "sns.set_theme()\r\n",
    "hist_cmap = sns.color_palette('PuBu', as_cmap=True)\r\n",
    "\r\n",
    "p = (np.min(label), np.max(label))\r\n",
    "\r\n",
    "plt.figure(figsize=(8,6))\r\n",
    "_, _label_edges, *_ = plt.hist2d(truth, estimate, bins=30, cmap=hist_cmap)\r\n",
    "_bins = (_label_edges[:-1] + _label_edges[1:]) / 2\r\n",
    "_median, *_ = binned_statistic(truth, estimate, statistic='median', bins=_label_edges)\r\n",
    "_lower, *_ = binned_statistic(truth, estimate, bins=_label_edges, statistic=lambda x: np.percentile(x, 10))\r\n",
    "_upper, *_ = binned_statistic(truth, estimate, bins=_label_edges, statistic=lambda x: np.percentile(x, 90))\r\n",
    "plt.plot(p, p, color='gray', linewidth=1.35)\r\n",
    "plt.plot(_bins, _median, color='black', linewidth=1.2)\r\n",
    "plt.plot(_bins, _lower, color='black', linestyle='dashed', linewidth=1)\r\n",
    "plt.plot(_bins, _upper, color='black', linestyle='dashed', linewidth=1)\r\n",
    "plt.xlabel('Ground Truth')\r\n",
    "plt.ylabel('Predictions')\r\n",
    "plt.show()\r\n",
    "\r\n",
    "sort = error.argsort()\r\n",
    "_estimate = estimate[sort]\r\n",
    "_error = error[sort]\r\n",
    "_truth = truth[sort] - _estimate\r\n",
    "N = len(truth)\r\n",
    "_below = (_truth < -_error).sum() / N * 100\r\n",
    "_above = (_truth > _error).sum() / N * 100\r\n",
    "\r\n",
    "plt.figure(figsize=(8,6))\r\n",
    "plt.fill_between(np.arange(N), _error, -_error)\r\n",
    "plt.scatter(np.arange(N), _truth, s=2.5)\r\n",
    "plt.text(0,3,f'{_above:.2f}%')\r\n",
    "plt.text(0,-3,f'{_below:.2f}%')\r\n",
    "plt.ylabel('Prediction interval with ground truth (centered)')\r\n",
    "plt.xlabel('ordered samples')\r\n",
    "plt.ylim(-4,4)\r\n",
    "plt.show()"
   ],
   "outputs": [],
   "metadata": {}
  },
  {
   "cell_type": "code",
   "execution_count": null,
   "source": [
    "from scipy.interpolate import splev, splrep\r\n",
    "\r\n",
    "sample_points = np.arange(_min, _max, 0.25)\r\n",
    "x = np.linspace(_min, _max, 200)\r\n",
    "linewidth = 1.5\r\n",
    "\r\n",
    "def moving_apply(data, f, width=0.5):\r\n",
    "    result = []\r\n",
    "    for s in sample_points:\r\n",
    "        mask = (truth >= s - width) & (truth <= s + width)\r\n",
    "        result.append(f(data[mask]))\r\n",
    "    return np.array(result)\r\n",
    "\r\n",
    "plt.figure(figsize=(8,6))\r\n",
    "ax1 = plt.gca()\r\n",
    "ax2 = ax1.twinx()\r\n",
    "dense_ax = ax1.twinx()\r\n",
    "\r\n",
    "sns.kdeplot(truth, cut=0, ax=dense_ax, color='black', linestyle='dashed', linewidth=1)\r\n",
    "dense_ax.grid=False\r\n",
    "dense_ax.set(ylabel=None, yticks=[])\r\n",
    "\r\n",
    "mad = moving_apply(np.abs(truth - estimate), np.median)\r\n",
    "mad = splev(x, splrep(sample_points, mad))\r\n",
    "\r\n",
    "ax1.plot(x, mad)\r\n",
    "ax1.set_ylabel('Median Absolute Eror')\r\n",
    "ax1.set_xlabel('Log Synchrotron Peak [Hz]')\r\n",
    "ax1.set_yticks(np.linspace(0.1,0.7, 6))\r\n",
    "ax1.tick_params(axis='y', labelcolor='C0')\r\n",
    "ax1.set_axisbelow(True)\r\n",
    "\r\n",
    "pi = moving_apply(error, np.median)\r\n",
    "pi = splev(x, splrep(sample_points, pi))\r\n",
    "\r\n",
    "ax2.plot(x, pi, color='C1')\r\n",
    "ax2.set_ylabel('Median PI Width')\r\n",
    "ax2.set_yticks(np.linspace(0.7,1.0, 6))\r\n",
    "ax2.tick_params(axis='y', labelcolor='C1')\r\n",
    "ax2.set_axisbelow(True)\r\n",
    "\r\n",
    "plt.show()"
   ],
   "outputs": [],
   "metadata": {}
  },
  {
   "cell_type": "markdown",
   "source": [
    "## Refining Data Set"
   ],
   "metadata": {}
  },
  {
   "cell_type": "markdown",
   "source": [
    "The estimates from the avaluation section can actually be used to refine the data set. Since it is known to have some outliners it should be possible to reduce them through the generalization of this tool."
   ],
   "metadata": {}
  },
  {
   "cell_type": "code",
   "execution_count": null,
   "source": [
    "#print estimates as csv\r\n",
    "with open('estimates.csv', 'w') as csv:\r\n",
    "    csv.write('Right Ascension,Declination,Bag,Catalogue Peak,Estimated Peak,Estimate Error (95%)\\n')\r\n",
    "    for i in range(len(label)):\r\n",
    "        csv.write(f'{pos[i,0]},{pos[i,1]},{bag_idx[i]},{label[i]},{estimate[i]:.2f},{error[i]:.2f}\\n')"
   ],
   "outputs": [],
   "metadata": {}
  }
 ],
 "metadata": {
  "orig_nbformat": 4,
  "language_info": {
   "name": "python",
   "version": "3.9.0",
   "mimetype": "text/x-python",
   "codemirror_mode": {
    "name": "ipython",
    "version": 3
   },
   "pygments_lexer": "ipython3",
   "nbconvert_exporter": "python",
   "file_extension": ".py"
  },
  "kernelspec": {
   "name": "python3",
   "display_name": "Python 3.9.0 64-bit"
  },
  "interpreter": {
   "hash": "ee5cc6fef2d70a7e71ee3826687cbd150f18158e0b1eef11d4f4f92bb920e304"
  }
 },
 "nbformat": 4,
 "nbformat_minor": 2
}