{
 "cells": [
  {
   "cell_type": "markdown",
   "source": [
    "# Use Case: 4LAC\r\n",
    "\r\n",
    "In this notebook we'll use BlaSE to reestimate the 4LAC-DR2 catalogue. The values for the synchrotron peak are stored in `table-4LAC-DR2-h.fits` and `table-4LAC-DR2-l-fits`, which both originates from https://fermi.gsfc.nasa.gov/ssc/data/access/lat/4LACDR2/. See the link for more information. Additionally, the VOUBlazar tool was used to get the actual SEDs which are stored in `4LAC.zip`."
   ],
   "metadata": {}
  },
  {
   "cell_type": "code",
   "execution_count": null,
   "source": [
    "#You need to have blase installed\r\n",
    "!blase 4LAC.zip -o 4LAC_estimates.csv"
   ],
   "outputs": [],
   "metadata": {}
  },
  {
   "cell_type": "code",
   "execution_count": 1,
   "source": [
    "import numpy as np\r\n",
    "import pandas as pd\r\n",
    "from astropy.io import fits\r\n",
    "\r\n",
    "output = pd.read_csv('4LAC_estimates.csv')\r\n",
    "fits_h = fits.open('table-4LAC-DR2-h.fits')\r\n",
    "dh = fits_h[1].data\r\n",
    "fits_l = fits.open('table-4LAC-DR2-l.fits')\r\n",
    "dl = fits_l[1].data\r\n",
    "\r\n",
    "cat_ra = np.concatenate((dh.field('RA_Counterpart'), dl.field('RA_Counterpart')))\r\n",
    "cat_dec = np.concatenate((dh.field('DEC_Counterpart'), dl.field('DEC_Counterpart')))\r\n",
    "cat_syn = np.concatenate((dh.field('nu_syn  '), dl.field('nu_syn  ')))\r\n",
    "\r\n",
    "fits_h.close()\r\n",
    "fits_l.close()\r\n",
    "\r\n",
    "print(f'{output.shape[0]} seds loaded.')\r\n",
    "print(f'{len(cat_ra)} catalogue entries loaded.')\r\n",
    "print(f'{(cat_syn == 0.0).sum()} missing synchrotron peaks.')"
   ],
   "outputs": [
    {
     "output_type": "stream",
     "name": "stdout",
     "text": [
      "3696 seds loaded.\n",
      "3511 catalogue entries loaded.\n",
      "917 missing synchrotron peaks.\n"
     ]
    }
   ],
   "metadata": {}
  },
  {
   "cell_type": "code",
   "execution_count": 2,
   "source": [
    "from scipy.spatial import KDTree\r\n",
    "\r\n",
    "#convert to log10\r\n",
    "mask = cat_syn != 0.0\r\n",
    "cat_syn[mask] = np.log10(cat_syn[mask])\r\n",
    "\r\n",
    "#create kdtree to match catalogue with blase's estimations\r\n",
    "cat_pos = np.stack((cat_ra, cat_dec), axis=1)\r\n",
    "tree = KDTree(cat_pos)"
   ],
   "outputs": [],
   "metadata": {}
  },
  {
   "cell_type": "code",
   "execution_count": 3,
   "source": [
    "#kdtree will return an index one after the last for missing values\r\n",
    "#we take adventage by populating that index with the \"missing value\"-value\r\n",
    "syn = np.append(cat_syn, [0.0])\r\n",
    "\r\n",
    "#match with catalogue\r\n",
    "_, indices = tree.query(output[['Right Ascension', 'Declination']], distance_upper_bound=0.1, workers=-1)\r\n",
    "output['Catalogue Peak'] = syn[indices]"
   ],
   "outputs": [],
   "metadata": {}
  },
  {
   "cell_type": "code",
   "execution_count": 4,
   "source": [
    "from blase import get_bag\r\n",
    "\r\n",
    "#Some seds of the 4LAC were part of the training set. Check which.\r\n",
    "bags = get_bag(output[['Right Ascension', 'Declination']])\r\n",
    "output['Unseen'] = (bags == -1)\r\n",
    "\r\n",
    "print(f'{(bags == -1).sum()} unseen data.')\r\n",
    "print(f'{((bags == -1) & (output[\"Catalogue Peak\"] == 0.0)).sum()} unseen and missing peaks.')"
   ],
   "outputs": [
    {
     "output_type": "stream",
     "name": "stdout",
     "text": [
      "1053 unseen data.\n",
      "706 unseen and missing peaks.\n"
     ]
    }
   ],
   "metadata": {}
  },
  {
   "cell_type": "code",
   "execution_count": 5,
   "source": [
    "#map catalogue peak to string to force two decimal points\r\n",
    "output['Catalogue Peak'] = output['Catalogue Peak'].map(lambda x: f'{x:.2f}')\r\n",
    "#reorder columns\r\n",
    "output = output.iloc[:,[0,1,2,5,6,3,4]] #catalogue before estimation\r\n",
    "#Save results\r\n",
    "output.to_csv('4LAC.csv', index=False)"
   ],
   "outputs": [],
   "metadata": {}
  }
 ],
 "metadata": {
  "orig_nbformat": 4,
  "language_info": {
   "name": "python",
   "version": "3.9.0",
   "mimetype": "text/x-python",
   "codemirror_mode": {
    "name": "ipython",
    "version": 3
   },
   "pygments_lexer": "ipython3",
   "nbconvert_exporter": "python",
   "file_extension": ".py"
  },
  "kernelspec": {
   "name": "python3",
   "display_name": "Python 3.9.0 64-bit"
  },
  "interpreter": {
   "hash": "ee5cc6fef2d70a7e71ee3826687cbd150f18158e0b1eef11d4f4f92bb920e304"
  }
 },
 "nbformat": 4,
 "nbformat_minor": 2
}