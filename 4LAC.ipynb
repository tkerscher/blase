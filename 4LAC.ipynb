{
 "cells": [
  {
   "cell_type": "markdown",
   "metadata": {},
   "source": [
    "# Use Case: 4LAC\n",
    "\n",
    "In this notebook we'll use BlaST to reestimate the 4LAC-DR2 catalogue. The values for the synchrotron peak are stored in `table-4LAC-DR2-h.fits` and `table-4LAC-DR2-l-fits`, which both originates from https://fermi.gsfc.nasa.gov/ssc/data/access/lat/4LACDR2/. See the link for more information. Additionally, the VOUBlazar tool was used to get the actual SEDs which are stored in `4LAC.zip`."
   ]
  },
  {
   "cell_type": "code",
   "execution_count": null,
   "metadata": {},
   "outputs": [],
   "source": [
    "#You need to have blast installed\n",
    "!blast 4LAC.zip -o 4LAC_estimates.csv"
   ]
  },
  {
   "cell_type": "code",
   "execution_count": 1,
   "metadata": {},
   "outputs": [
    {
     "name": "stdout",
     "output_type": "stream",
     "text": [
      "3696 seds loaded.\n",
      "3511 catalogue entries loaded.\n",
      "917 missing synchrotron peaks.\n"
     ]
    }
   ],
   "source": [
    "import numpy as np\n",
    "import pandas as pd\n",
    "from astropy.io import fits\n",
    "\n",
    "output = pd.read_csv('4LAC_estimates.csv')\n",
    "fits_h = fits.open('table-4LAC-DR2-h.fits')\n",
    "dh = fits_h[1].data\n",
    "fits_l = fits.open('table-4LAC-DR2-l.fits')\n",
    "dl = fits_l[1].data\n",
    "\n",
    "cat_ra = np.concatenate((dh.field('RA_Counterpart'), dl.field('RA_Counterpart')))\n",
    "cat_dec = np.concatenate((dh.field('DEC_Counterpart'), dl.field('DEC_Counterpart')))\n",
    "cat_syn = np.concatenate((dh.field('nu_syn  '), dl.field('nu_syn  ')))\n",
    "\n",
    "fits_h.close()\n",
    "fits_l.close()\n",
    "\n",
    "print(f'{output.shape[0]} seds loaded.')\n",
    "print(f'{len(cat_ra)} catalogue entries loaded.')\n",
    "print(f'{(cat_syn == 0.0).sum()} missing synchrotron peaks.')"
   ]
  },
  {
   "cell_type": "code",
   "execution_count": 2,
   "metadata": {},
   "outputs": [],
   "source": [
    "from scipy.spatial import KDTree\n",
    "\n",
    "#convert to log10\n",
    "mask = cat_syn != 0.0\n",
    "cat_syn[mask] = np.log10(cat_syn[mask])\n",
    "\n",
    "#create kdtree to match catalogue with blase's estimations\n",
    "cat_pos = np.stack((cat_ra, cat_dec), axis=1)\n",
    "tree = KDTree(cat_pos)"
   ]
  },
  {
   "cell_type": "code",
   "execution_count": 3,
   "metadata": {},
   "outputs": [],
   "source": [
    "#kdtree will return an index one after the last for missing values\n",
    "#we take adventage by populating that index with the \"missing value\"-value\n",
    "syn = np.append(cat_syn, [0.0])\n",
    "\n",
    "#match with catalogue\n",
    "_, indices = tree.query(output[['Right Ascension', 'Declination']], distance_upper_bound=0.1, workers=-1)\n",
    "output['Catalogue Peak'] = syn[indices]"
   ]
  },
  {
   "cell_type": "code",
   "execution_count": 4,
   "metadata": {},
   "outputs": [
    {
     "name": "stdout",
     "output_type": "stream",
     "text": [
      "1053 unseen data.\n",
      "706 unseen and missing peaks.\n"
     ]
    }
   ],
   "source": [
    "from blast import get_bag\n",
    "\n",
    "#Some seds of the 4LAC were part of the training set. Check which.\n",
    "bags = get_bag(output[['Right Ascension', 'Declination']])\n",
    "output['Unseen'] = (bags == -1)\n",
    "\n",
    "print(f'{(bags == -1).sum()} unseen data.')\n",
    "print(f'{((bags == -1) & (output[\"Catalogue Peak\"] == 0.0)).sum()} unseen and missing peaks.')"
   ]
  },
  {
   "cell_type": "code",
   "execution_count": 5,
   "metadata": {},
   "outputs": [],
   "source": [
    "#map catalogue peak to string to force two decimal points\n",
    "output['Catalogue Peak'] = output['Catalogue Peak'].map(lambda x: f'{x:.2f}')\n",
    "#reorder columns\n",
    "output = output.iloc[:,[0,1,2,5,6,3,4]] #catalogue before estimation\n",
    "#Save results\n",
    "output.to_csv('4LAC.csv', index=False)"
   ]
  }
 ],
 "metadata": {
  "interpreter": {
   "hash": "ee5cc6fef2d70a7e71ee3826687cbd150f18158e0b1eef11d4f4f92bb920e304"
  },
  "kernelspec": {
   "display_name": "Python 3.9.0 64-bit",
   "name": "python3"
  },
  "language_info": {
   "codemirror_mode": {
    "name": "ipython",
    "version": 3
   },
   "file_extension": ".py",
   "mimetype": "text/x-python",
   "name": "python",
   "nbconvert_exporter": "python",
   "pygments_lexer": "ipython3",
   "version": "3.9.0"
  },
  "orig_nbformat": 4
 },
 "nbformat": 4,
 "nbformat_minor": 2
}
